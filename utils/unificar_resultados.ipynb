{
 "cells": [
  {
   "cell_type": "code",
   "execution_count": 1,
   "id": "6f89992f",
   "metadata": {},
   "outputs": [],
   "source": [
    "import pandas as pd\n",
    "import os"
   ]
  },
  {
   "cell_type": "code",
   "execution_count": 8,
   "id": "df15c3b3",
   "metadata": {},
   "outputs": [],
   "source": [
    "def combinar_csv(carpeta):\n",
    "    archivos_csv = [archivo for archivo in os.listdir(carpeta) if archivo.endswith(\".csv\")]\n",
    "    \n",
    "    if len(archivos_csv) < 2:\n",
    "        print(\"No hay suficientes archivos CSV para comparar.\")\n",
    "        return\n",
    "    \n",
    "    # Leer el primer archivo CSV para obtener las columnas\n",
    "    archivo_base = os.path.join(carpeta, archivos_csv[0])\n",
    "    df_base = pd.read_csv(archivo_base)\n",
    "    columnas_base = set(df_base.columns)\n",
    "    \n",
    "    # Crear una lista para almacenar los DataFrames\n",
    "    dfs = []\n",
    "    \n",
    "    # Comparar con los demás archivos CSV\n",
    "    for archivo in archivos_csv:\n",
    "        archivo_actual = os.path.join(carpeta, archivo)\n",
    "        df_actual = pd.read_csv(archivo_actual)\n",
    "        columnas_actual = set(df_actual.columns)\n",
    "        \n",
    "        if columnas_base != columnas_actual:\n",
    "            print(f\"Las columnas del archivo {archivo} no son iguales.\")\n",
    "            print(f\"Columnas en el archivo base: {columnas_base}\")\n",
    "            print(f\"Columnas en el archivo {archivo}: {columnas_actual}\")\n",
    "            diferencias_base = columnas_base - columnas_actual\n",
    "            diferencias_actual = columnas_actual - columnas_base\n",
    "            \n",
    "            if diferencias_base:\n",
    "                print(f\"Diferencias en el archivo base (faltan columnas en {archivo}): {diferencias_base}\")\n",
    "            if diferencias_actual:\n",
    "                print(f\"Diferencias en el archivo {archivo} (columnas adicionales): {diferencias_actual}\")\n",
    "            return\n",
    "    \n",
    "        # Agregar la columna con el nombre del archivo de procedencia\n",
    "        df_actual['fuente'] = archivo\n",
    "        \n",
    "        # Agregar el DataFrame a la lista\n",
    "        dfs.append(df_actual)\n",
    "    \n",
    "    # Concatenar todos los DataFrames en uno solo\n",
    "    df_unificado = pd.concat(dfs, ignore_index=True)\n",
    "    print(\"Se ha combinado el DataFrame.\")\n",
    "    \n",
    "    archivo_salida = os.path.join(carpeta, \"unificado.csv\")\n",
    "\n",
    "    # Exportar el DataFrame unificado a un archivo CSV\n",
    "    df_unificado.to_csv(archivo_salida, index=False)\n",
    "    print(f\"El DataFrame unificado se ha guardado en {archivo_salida}\")"
   ]
  },
  {
   "cell_type": "code",
   "execution_count": 9,
   "id": "708e80be",
   "metadata": {},
   "outputs": [
    {
     "name": "stdout",
     "output_type": "stream",
     "text": [
      "Se ha combinado el DataFrame.\n",
      "El DataFrame unificado se ha guardado en /home/clisueno/output/unificado.csv\n"
     ]
    }
   ],
   "source": [
    "combinar_csv(\"/home/clisueno/output\")"
   ]
  },
  {
   "cell_type": "code",
   "execution_count": null,
   "id": "8b5089d0",
   "metadata": {},
   "outputs": [],
   "source": []
  }
 ],
 "metadata": {
  "kernelspec": {
   "display_name": "venv",
   "language": "python",
   "name": "python3"
  },
  "language_info": {
   "codemirror_mode": {
    "name": "ipython",
    "version": 3
   },
   "file_extension": ".py",
   "mimetype": "text/x-python",
   "name": "python",
   "nbconvert_exporter": "python",
   "pygments_lexer": "ipython3",
   "version": "3.12.3"
  }
 },
 "nbformat": 4,
 "nbformat_minor": 5
}
