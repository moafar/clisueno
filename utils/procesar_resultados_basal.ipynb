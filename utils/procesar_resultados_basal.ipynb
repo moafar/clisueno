{
 "cells": [
  {
   "cell_type": "markdown",
   "id": "f902a0a4",
   "metadata": {},
   "source": [
    "# 1 Carga de datos"
   ]
  },
  {
   "cell_type": "code",
   "execution_count": 101,
   "id": "afa9e520",
   "metadata": {},
   "outputs": [],
   "source": [
    "import pandas as pd\n",
    "import numpy as np\n",
    "import warnings"
   ]
  },
  {
   "cell_type": "code",
   "execution_count": 156,
   "id": "0a929add",
   "metadata": {},
   "outputs": [],
   "source": [
    "df = pd.read_csv(\"/home/clisueno/output/unificado.csv\", quoting=1)"
   ]
  },
  {
   "cell_type": "code",
   "execution_count": 157,
   "id": "f57db15c",
   "metadata": {},
   "outputs": [
    {
     "data": {
      "text/plain": [
       "(19791, 42)"
      ]
     },
     "execution_count": 157,
     "metadata": {},
     "output_type": "execute_result"
    }
   ],
   "source": [
    "df.shape"
   ]
  },
  {
   "cell_type": "code",
   "execution_count": 33,
   "id": "d9b8f3e3",
   "metadata": {},
   "outputs": [
    {
     "data": {
      "text/plain": [
       "Index(['pte_nombre', 'pte_edad_anos', 'pte_edad_meses', 'pte_edad_dias',\n",
       "       'pte_id', 'pte_peso', 'pte_medida_peso', 'pte_talla',\n",
       "       'pte_medida_talla', 'pte_imc', 'pte_cuello', 'pte_medida_cuello',\n",
       "       'pte_perimetro_abdominal', 'pte_medida_perimetro_abdominal',\n",
       "       'proced_solicita', 'proced_empresa', 'proced_fecha', 'proced_epworth',\n",
       "       'proced_tiempo_en_cama', 'proced_tiempo_sueno',\n",
       "       'proced_eficiencia_sueno', 'proced_latencia_sueno_total',\n",
       "       'proced_latencia_sueno_rem', 'proced_indice_microalertamientos',\n",
       "       'proced_porcentaje_sueno_rem', 'proced_porcentaje_sueno_profundo',\n",
       "       'proced_iac', 'proced_iao', 'proced_iam', 'proced_indice_desat_rem',\n",
       "       'proced_indice_desat_nrem', 'proced_indice_desat_total',\n",
       "       'proced_oxim_menor90_total', 'proced_oxim_menor80_total',\n",
       "       'proced_oxim_menor70_total', 'proced_oxim_menor60_total', 'proced_t90',\n",
       "       'proced_numero_eventos_ah', 'proced_ih', 'proced_iah', 'fuente',\n",
       "       'uuid'],\n",
       "      dtype='object')"
      ]
     },
     "execution_count": 33,
     "metadata": {},
     "output_type": "execute_result"
    }
   ],
   "source": [
    "df.columns"
   ]
  },
  {
   "cell_type": "markdown",
   "id": "441ca42e",
   "metadata": {},
   "source": [
    "# 2 Asignación de tipos"
   ]
  },
  {
   "cell_type": "markdown",
   "id": "6af0380c",
   "metadata": {},
   "source": [
    "## 2.1 Declaración de tipos"
   ]
  },
  {
   "cell_type": "code",
   "execution_count": 158,
   "id": "0413180a",
   "metadata": {},
   "outputs": [],
   "source": [
    "variables_str = [\n",
    "    'pte_nombre',\n",
    "    'pte_id',\n",
    "    'pte_medida_peso',\n",
    "    'pte_medida_talla',\n",
    "    'pte_medida_cuello',\n",
    "    'pte_medida_perimetro_abdominal',\n",
    "    'proced_solicita',\n",
    "    'proced_empresa',\n",
    "    'fuente',\n",
    "    'uuid'\n",
    "\n",
    "\n",
    "]\n",
    "\n",
    "variables_int = [\n",
    "\n",
    "\n",
    "]\n",
    "\n",
    "variables_float = [\n",
    "    'pte_edad_anos',\n",
    "    'pte_edad_meses',\n",
    "    'pte_edad_dias',\n",
    "    'proced_epworth',\n",
    "    'pte_peso',\n",
    "    'pte_talla',\n",
    "    'pte_imc',\n",
    "    'pte_cuello',\n",
    "    'pte_perimetro_abdominal',\n",
    "    'proced_tiempo_en_cama',\n",
    "    'proced_tiempo_sueno',\n",
    "    'proced_eficiencia_sueno',\n",
    "    'proced_latencia_sueno_total',\n",
    "    'proced_latencia_sueno_rem',\n",
    "    'proced_indice_microalertamientos',\n",
    "    'proced_porcentaje_sueno_rem',\n",
    "    'proced_porcentaje_sueno_profundo',\n",
    "    'proced_iac',\n",
    "    'proced_iao',\n",
    "    'proced_iam',\n",
    "    'proced_indice_desat_rem',\n",
    "    'proced_indice_desat_nrem',\n",
    "    'proced_indice_desat_total',\n",
    "    'proced_oxim_menor90_total',\n",
    "    'proced_oxim_menor80_total',\n",
    "    'proced_oxim_menor70_total',\n",
    "    'proced_oxim_menor60_total',\n",
    "    'proced_t90',\n",
    "    'proced_ih',\n",
    "    'proced_iah',\n",
    "    'proced_numero_eventos_ah'\n",
    "\n",
    "\n",
    "]\n",
    "\n",
    "variables_datetime = ['proced_fecha']"
   ]
  },
  {
   "cell_type": "markdown",
   "id": "c1fe1e55",
   "metadata": {},
   "source": [
    "## 2.2 Definición de funciones"
   ]
  },
  {
   "cell_type": "code",
   "execution_count": 159,
   "id": "64ecec4d",
   "metadata": {},
   "outputs": [],
   "source": [
    "import pandas as pd\n",
    "from datetime import datetime\n",
    "import numpy as np\n",
    "import warnings\n",
    "\n",
    "# Variables DATETIME ***********************************\n",
    "\n",
    "import pandas as pd\n",
    "from datetime import datetime\n",
    "\n",
    "def validar_transformar_datetime(df, variables):\n",
    "\n",
    "    # Inicializar listas de resultados\n",
    "    variables_no_encontradas = []\n",
    "    variables_transformadas = []\n",
    "    variables_no_transformadas = []\n",
    "\n",
    "    def convertir_fecha(fecha_str):\n",
    "        try:\n",
    "            return pd.to_datetime(str(fecha_str).strip(), dayfirst=True, errors='coerce')\n",
    "        except Exception:\n",
    "            return pd.NaT\n",
    "\n",
    "    for variable in variables:\n",
    "        if variable not in df.columns:\n",
    "            variables_no_encontradas.append(variable)\n",
    "        else:\n",
    "            # Aplicar conversión\n",
    "            df[variable] = df[variable].apply(convertir_fecha)\n",
    "            df[variable] = df[variable].dt.floor(\"D\")  # elimina la hora, conserva datetime64[ns]\n",
    "\n",
    "            # Verificar si se transformó exitosamente\n",
    "            if df[variable].isna().all():\n",
    "                variables_no_transformadas.append(variable)\n",
    "            else:\n",
    "                variables_transformadas.append(variable)\n",
    "\n",
    "    # Reporte\n",
    "    print(\"\\n************ Resultado de la transformación **************\\n\")\n",
    "    print(f\"{len(variables_no_encontradas)} Variables no encontradas: {variables_no_encontradas}\")\n",
    "    print(f\"{len(variables_no_transformadas)} Variables no transformadas: {variables_no_transformadas}\")\n",
    "    print(f\"{len(variables_transformadas)} Variables transformadas exitosamente: {variables_transformadas}\")\n",
    "\n",
    "    return {\n",
    "        \"no_encontradas\": variables_no_encontradas,\n",
    "        \"no_transformadas\": variables_no_transformadas,\n",
    "        \"transformadas\": variables_transformadas\n",
    "    }\n",
    "\n",
    "\n",
    "# Validación y transformación a FLOAT *****************************\n",
    "\n",
    "import pandas as pd\n",
    "\n",
    "def validar_transformar_int(df, variables):\n",
    "\n",
    "    variables_no_encontradas = []\n",
    "    variables_transformadas = []\n",
    "    variables_no_transformadas = []\n",
    "\n",
    "    for var in variables:\n",
    "        if var not in df.columns:\n",
    "            variables_no_encontradas.append(var)\n",
    "            print(f\"La columna '{var}' no se encuentra en el DataFrame.\")\n",
    "        else:\n",
    "            try:\n",
    "                # Reemplazar comas por puntos y convertir a número\n",
    "                df[var] = df[var].astype(str).str.replace(',', '.', regex=False)\n",
    "                df[var] = pd.to_numeric(df[var], errors='coerce').astype('Int64')\n",
    "\n",
    "                if df[var].isna().all():\n",
    "                    variables_no_transformadas.append(var)\n",
    "                else:\n",
    "                    variables_transformadas.append(var)\n",
    "\n",
    "            except Exception as e:\n",
    "                variables_no_transformadas.append(var)\n",
    "                print(f\"Error al transformar la columna '{var}' a enteros: {e}\")\n",
    "\n",
    "    print(\"\\n************ Resultado de la transformación **************\\n\")\n",
    "    print(f\"{len(variables_no_encontradas)} Variables no encontradas: {variables_no_encontradas}\")\n",
    "    print(f\"{len(variables_no_transformadas)} Variables no transformadas: {variables_no_transformadas}\")\n",
    "    print(f\"{len(variables_transformadas)} Variables transformadas exitosamente: {variables_transformadas}\")\n",
    "\n",
    "    return {\n",
    "        \"no_encontradas\": variables_no_encontradas,\n",
    "        \"no_transformadas\": variables_no_transformadas,\n",
    "        \"transformadas\": variables_transformadas\n",
    "    }\n",
    "\n",
    "\n",
    "# Validación y transformación a FLOAT ************************************************\n",
    "\n",
    "import pandas as pd\n",
    "\n",
    "def validar_transformar_float(df, variables):\n",
    "    \"\"\"\n",
    "    Valida y transforma columnas en un DataFrame a tipo float, convirtiendo comas en puntos\n",
    "    y usando NaN para valores no válidos.\n",
    "\n",
    "    Args:\n",
    "        df (pd.DataFrame): DataFrame a validar y transformar.\n",
    "        variables (list): Lista de nombres de las columnas a validar y transformar.\n",
    "\n",
    "    Returns:\n",
    "        dict: Diccionario con las listas de variables no encontradas, transformadas exitosamente\n",
    "              y no transformadas.\n",
    "    \"\"\"\n",
    "    variables_no_encontradas = []\n",
    "    variables_transformadas = []\n",
    "    variables_no_transformadas = []\n",
    "\n",
    "    for var in variables:\n",
    "        if var not in df.columns:\n",
    "            variables_no_encontradas.append(var)\n",
    "            print(f\"La columna '{var}' no se encuentra en el DataFrame.\")\n",
    "        else:\n",
    "            try:\n",
    "                # Estandarizar separadores decimales\n",
    "                df[var] = df[var].astype(str).str.replace(',', '.', regex=False)\n",
    "                df[var] = pd.to_numeric(df[var], errors='coerce').astype(float)\n",
    "\n",
    "                if df[var].isna().all():\n",
    "                    variables_no_transformadas.append(var)\n",
    "                else:\n",
    "                    variables_transformadas.append(var)\n",
    "\n",
    "            except Exception as e:\n",
    "                variables_no_transformadas.append(var)\n",
    "                print(f\"Error al transformar la columna '{var}' a flotante: {e}\")\n",
    "\n",
    "    print(\"\\n************ Resultado de la transformación **************\\n\")\n",
    "    print(f\"{len(variables_no_encontradas)} Variables no encontradas: {variables_no_encontradas}\")\n",
    "    print(f\"{len(variables_no_transformadas)} Variables no transformadas: {variables_no_transformadas}\")\n",
    "    print(f\"{len(variables_transformadas)} Variables transformadas exitosamente: {variables_transformadas}\")\n",
    "\n",
    "    return {\n",
    "        \"no_encontradas\": variables_no_encontradas,\n",
    "        \"no_transformadas\": variables_no_transformadas,\n",
    "        \"transformadas\": variables_transformadas\n",
    "    }\n",
    "\n",
    "\n",
    "# Validación y transformación a STRING ****************************************\n",
    "\n",
    "def validar_transformar_str(df, variables):\n",
    "    \"\"\"\n",
    "    Valida y transforma columnas en un DataFrame a tipo str, conservando los NaN como valores faltantes.\n",
    "\n",
    "    Args:\n",
    "        df (pd.DataFrame): DataFrame a validar y transformar.\n",
    "        variables (list): Lista de nombres de las columnas a validar y transformar.\n",
    "\n",
    "    Returns:\n",
    "        dict: Diccionario con los resultados de la transformación.\n",
    "    \"\"\"\n",
    "    import warnings\n",
    "    import pandas as pd\n",
    "\n",
    "    variables_no_encontradas = []\n",
    "    variables_transformadas = []\n",
    "    variables_no_transformadas = []\n",
    "    variables_con_warnings = []\n",
    "\n",
    "    for var in variables:\n",
    "        if var not in df.columns:\n",
    "            variables_no_encontradas.append(var)\n",
    "            print(f\"La columna '{var}' no se encuentra en el DataFrame.\")\n",
    "        else:\n",
    "            try:\n",
    "                with warnings.catch_warnings(record=True) as w:\n",
    "                    warnings.simplefilter(\"always\", UserWarning)\n",
    "\n",
    "                    df[var] = df[var].astype(\"string\")  # usa tipo string (acepta pd.NA)\n",
    "\n",
    "                    if len(w) > 0:\n",
    "                        variables_con_warnings.append(var)\n",
    "\n",
    "                    if df[var].isna().all():\n",
    "                        variables_no_transformadas.append(var)\n",
    "                    else:\n",
    "                        variables_transformadas.append(var)\n",
    "\n",
    "            except Exception as e:\n",
    "                variables_no_transformadas.append(var)\n",
    "                print(f\"Error al transformar la columna '{var}' a cadena: {e}\")\n",
    "\n",
    "    print(\"\\n************ Resultado de la transformación **************\\n\")\n",
    "    print(f\"{len(variables_no_encontradas)} Variables no encontradas: {variables_no_encontradas}\")\n",
    "    print(f\"{len(variables_no_transformadas)} Variables no transformadas: {variables_no_transformadas}\")\n",
    "    print(f\"{len(variables_con_warnings)} Variables transformadas con warnings: {variables_con_warnings}\")\n",
    "    print(f\"{len(variables_transformadas)} Variables transformadas exitosamente: {variables_transformadas}\")\n",
    "\n",
    "    return {\n",
    "        \"no_encontradas\": variables_no_encontradas,\n",
    "        \"no_transformadas\": variables_no_transformadas,\n",
    "        \"con_warnings\": variables_con_warnings,\n",
    "        \"transformadas\": variables_transformadas\n",
    "    }\n"
   ]
  },
  {
   "cell_type": "markdown",
   "id": "408a8a67",
   "metadata": {},
   "source": [
    "## 2.3 Aplicación"
   ]
  },
  {
   "cell_type": "code",
   "execution_count": 29,
   "id": "12aadc3f",
   "metadata": {},
   "outputs": [
    {
     "data": {
      "text/html": [
       "<div>\n",
       "<style scoped>\n",
       "    .dataframe tbody tr th:only-of-type {\n",
       "        vertical-align: middle;\n",
       "    }\n",
       "\n",
       "    .dataframe tbody tr th {\n",
       "        vertical-align: top;\n",
       "    }\n",
       "\n",
       "    .dataframe thead th {\n",
       "        text-align: right;\n",
       "    }\n",
       "</style>\n",
       "<table border=\"1\" class=\"dataframe\">\n",
       "  <thead>\n",
       "    <tr style=\"text-align: right;\">\n",
       "      <th></th>\n",
       "      <th>pte_nombre</th>\n",
       "      <th>pte_edad_anos</th>\n",
       "      <th>pte_edad_meses</th>\n",
       "      <th>pte_edad_dias</th>\n",
       "      <th>pte_id</th>\n",
       "      <th>pte_peso</th>\n",
       "      <th>pte_medida_peso</th>\n",
       "      <th>pte_talla</th>\n",
       "      <th>pte_medida_talla</th>\n",
       "      <th>pte_imc</th>\n",
       "      <th>...</th>\n",
       "      <th>proced_indice_desat_total</th>\n",
       "      <th>proced_oxim_menor90_total</th>\n",
       "      <th>proced_oxim_menor80_total</th>\n",
       "      <th>proced_oxim_menor70_total</th>\n",
       "      <th>proced_oxim_menor60_total</th>\n",
       "      <th>proced_t90</th>\n",
       "      <th>proced_numero_eventos_ah</th>\n",
       "      <th>proced_ih</th>\n",
       "      <th>proced_iah</th>\n",
       "      <th>fuente</th>\n",
       "    </tr>\n",
       "  </thead>\n",
       "  <tbody>\n",
       "    <tr>\n",
       "      <th>0</th>\n",
       "      <td>ABRAHAM FONTALVO ROMERO</td>\n",
       "      <td>60</td>\n",
       "      <td>NaN</td>\n",
       "      <td>NaN</td>\n",
       "      <td>91420156</td>\n",
       "      <td>70</td>\n",
       "      <td>Kg</td>\n",
       "      <td>170</td>\n",
       "      <td>cm</td>\n",
       "      <td>24.2</td>\n",
       "      <td>...</td>\n",
       "      <td>28.3</td>\n",
       "      <td>3</td>\n",
       "      <td>0</td>\n",
       "      <td>0</td>\n",
       "      <td>0</td>\n",
       "      <td>0.7</td>\n",
       "      <td>329</td>\n",
       "      <td>1.7</td>\n",
       "      <td>46.8</td>\n",
       "      <td>/home/clisueno/output/resultados_psg_rtf.csv</td>\n",
       "    </tr>\n",
       "    <tr>\n",
       "      <th>1</th>\n",
       "      <td>ADRIANA BECERRA GUEVARA</td>\n",
       "      <td>46</td>\n",
       "      <td>NaN</td>\n",
       "      <td>NaN</td>\n",
       "      <td>37511735</td>\n",
       "      <td>77</td>\n",
       "      <td>Kg</td>\n",
       "      <td>153</td>\n",
       "      <td>cm</td>\n",
       "      <td>32.9</td>\n",
       "      <td>...</td>\n",
       "      <td>7.2</td>\n",
       "      <td>14.1</td>\n",
       "      <td>0</td>\n",
       "      <td>0</td>\n",
       "      <td>0</td>\n",
       "      <td>3.6</td>\n",
       "      <td>46</td>\n",
       "      <td>5.3</td>\n",
       "      <td>7</td>\n",
       "      <td>/home/clisueno/output/resultados_psg_rtf.csv</td>\n",
       "    </tr>\n",
       "    <tr>\n",
       "      <th>2</th>\n",
       "      <td>ALCIRA HERRERA CIFUENTES</td>\n",
       "      <td>51</td>\n",
       "      <td>NaN</td>\n",
       "      <td>NaN</td>\n",
       "      <td>52020220</td>\n",
       "      <td>72</td>\n",
       "      <td>Kg</td>\n",
       "      <td>160</td>\n",
       "      <td>cm</td>\n",
       "      <td>28.13</td>\n",
       "      <td>...</td>\n",
       "      <td>7.9</td>\n",
       "      <td>0.6</td>\n",
       "      <td>0</td>\n",
       "      <td>0</td>\n",
       "      <td>0</td>\n",
       "      <td>0.1</td>\n",
       "      <td>52</td>\n",
       "      <td>5.6</td>\n",
       "      <td>7.3</td>\n",
       "      <td>/home/clisueno/output/resultados_psg_rtf.csv</td>\n",
       "    </tr>\n",
       "    <tr>\n",
       "      <th>3</th>\n",
       "      <td>ALEJANDRO VILLABONA ARAMBULA</td>\n",
       "      <td>55</td>\n",
       "      <td>NaN</td>\n",
       "      <td>NaN</td>\n",
       "      <td>91262117</td>\n",
       "      <td>93</td>\n",
       "      <td>Kg</td>\n",
       "      <td>185</td>\n",
       "      <td>cm</td>\n",
       "      <td>27.2</td>\n",
       "      <td>...</td>\n",
       "      <td>2</td>\n",
       "      <td>1.4</td>\n",
       "      <td>0.1</td>\n",
       "      <td>0.1</td>\n",
       "      <td>0.1</td>\n",
       "      <td>0.4</td>\n",
       "      <td>11</td>\n",
       "      <td>1.8</td>\n",
       "      <td>1.8</td>\n",
       "      <td>/home/clisueno/output/resultados_psg_rtf.csv</td>\n",
       "    </tr>\n",
       "    <tr>\n",
       "      <th>4</th>\n",
       "      <td>ALEXANDER HERNANDO PACHECO GONZALEZ</td>\n",
       "      <td>47</td>\n",
       "      <td>NaN</td>\n",
       "      <td>NaN</td>\n",
       "      <td>91445323</td>\n",
       "      <td>78</td>\n",
       "      <td>Kg</td>\n",
       "      <td>169</td>\n",
       "      <td>cm</td>\n",
       "      <td>27.3</td>\n",
       "      <td>...</td>\n",
       "      <td>2.1</td>\n",
       "      <td>0.1</td>\n",
       "      <td>0</td>\n",
       "      <td>0</td>\n",
       "      <td>0</td>\n",
       "      <td>0</td>\n",
       "      <td>8</td>\n",
       "      <td>1.9</td>\n",
       "      <td>1.9</td>\n",
       "      <td>/home/clisueno/output/resultados_psg_rtf.csv</td>\n",
       "    </tr>\n",
       "  </tbody>\n",
       "</table>\n",
       "<p>5 rows × 41 columns</p>\n",
       "</div>"
      ],
      "text/plain": [
       "                            pte_nombre pte_edad_anos pte_edad_meses  \\\n",
       "0              ABRAHAM FONTALVO ROMERO            60            NaN   \n",
       "1              ADRIANA BECERRA GUEVARA            46            NaN   \n",
       "2             ALCIRA HERRERA CIFUENTES            51            NaN   \n",
       "3         ALEJANDRO VILLABONA ARAMBULA            55            NaN   \n",
       "4  ALEXANDER HERNANDO PACHECO GONZALEZ            47            NaN   \n",
       "\n",
       "  pte_edad_dias    pte_id pte_peso pte_medida_peso pte_talla pte_medida_talla  \\\n",
       "0           NaN  91420156       70              Kg       170               cm   \n",
       "1           NaN  37511735       77              Kg       153               cm   \n",
       "2           NaN  52020220       72              Kg       160               cm   \n",
       "3           NaN  91262117       93              Kg       185               cm   \n",
       "4           NaN  91445323       78              Kg       169               cm   \n",
       "\n",
       "  pte_imc  ... proced_indice_desat_total proced_oxim_menor90_total  \\\n",
       "0    24.2  ...                      28.3                         3   \n",
       "1    32.9  ...                       7.2                      14.1   \n",
       "2   28.13  ...                       7.9                       0.6   \n",
       "3    27.2  ...                         2                       1.4   \n",
       "4    27.3  ...                       2.1                       0.1   \n",
       "\n",
       "  proced_oxim_menor80_total proced_oxim_menor70_total  \\\n",
       "0                         0                         0   \n",
       "1                         0                         0   \n",
       "2                         0                         0   \n",
       "3                       0.1                       0.1   \n",
       "4                         0                         0   \n",
       "\n",
       "  proced_oxim_menor60_total proced_t90 proced_numero_eventos_ah proced_ih  \\\n",
       "0                         0        0.7                      329       1.7   \n",
       "1                         0        3.6                       46       5.3   \n",
       "2                         0        0.1                       52       5.6   \n",
       "3                       0.1        0.4                       11       1.8   \n",
       "4                         0          0                        8       1.9   \n",
       "\n",
       "  proced_iah                                        fuente  \n",
       "0       46.8  /home/clisueno/output/resultados_psg_rtf.csv  \n",
       "1          7  /home/clisueno/output/resultados_psg_rtf.csv  \n",
       "2        7.3  /home/clisueno/output/resultados_psg_rtf.csv  \n",
       "3        1.8  /home/clisueno/output/resultados_psg_rtf.csv  \n",
       "4        1.9  /home/clisueno/output/resultados_psg_rtf.csv  \n",
       "\n",
       "[5 rows x 41 columns]"
      ]
     },
     "execution_count": 29,
     "metadata": {},
     "output_type": "execute_result"
    }
   ],
   "source": [
    "df.head()"
   ]
  },
  {
   "cell_type": "code",
   "execution_count": 160,
   "id": "d0f4650d",
   "metadata": {},
   "outputs": [
    {
     "name": "stdout",
     "output_type": "stream",
     "text": [
      "\n",
      "************ Resultado de la transformación **************\n",
      "\n",
      "0 Variables no encontradas: []\n",
      "0 Variables no transformadas: []\n",
      "0 Variables transformadas exitosamente: []\n"
     ]
    },
    {
     "data": {
      "text/plain": [
       "{'no_encontradas': [], 'no_transformadas': [], 'transformadas': []}"
      ]
     },
     "execution_count": 160,
     "metadata": {},
     "output_type": "execute_result"
    }
   ],
   "source": [
    "validar_transformar_int(df,variables_int)"
   ]
  },
  {
   "cell_type": "code",
   "execution_count": 161,
   "id": "95e74aa8",
   "metadata": {},
   "outputs": [
    {
     "name": "stdout",
     "output_type": "stream",
     "text": [
      "\n",
      "************ Resultado de la transformación **************\n",
      "\n",
      "0 Variables no encontradas: []\n",
      "0 Variables no transformadas: []\n",
      "31 Variables transformadas exitosamente: ['pte_edad_anos', 'pte_edad_meses', 'pte_edad_dias', 'proced_epworth', 'pte_peso', 'pte_talla', 'pte_imc', 'pte_cuello', 'pte_perimetro_abdominal', 'proced_tiempo_en_cama', 'proced_tiempo_sueno', 'proced_eficiencia_sueno', 'proced_latencia_sueno_total', 'proced_latencia_sueno_rem', 'proced_indice_microalertamientos', 'proced_porcentaje_sueno_rem', 'proced_porcentaje_sueno_profundo', 'proced_iac', 'proced_iao', 'proced_iam', 'proced_indice_desat_rem', 'proced_indice_desat_nrem', 'proced_indice_desat_total', 'proced_oxim_menor90_total', 'proced_oxim_menor80_total', 'proced_oxim_menor70_total', 'proced_oxim_menor60_total', 'proced_t90', 'proced_ih', 'proced_iah', 'proced_numero_eventos_ah']\n"
     ]
    },
    {
     "data": {
      "text/plain": [
       "{'no_encontradas': [],\n",
       " 'no_transformadas': [],\n",
       " 'transformadas': ['pte_edad_anos',\n",
       "  'pte_edad_meses',\n",
       "  'pte_edad_dias',\n",
       "  'proced_epworth',\n",
       "  'pte_peso',\n",
       "  'pte_talla',\n",
       "  'pte_imc',\n",
       "  'pte_cuello',\n",
       "  'pte_perimetro_abdominal',\n",
       "  'proced_tiempo_en_cama',\n",
       "  'proced_tiempo_sueno',\n",
       "  'proced_eficiencia_sueno',\n",
       "  'proced_latencia_sueno_total',\n",
       "  'proced_latencia_sueno_rem',\n",
       "  'proced_indice_microalertamientos',\n",
       "  'proced_porcentaje_sueno_rem',\n",
       "  'proced_porcentaje_sueno_profundo',\n",
       "  'proced_iac',\n",
       "  'proced_iao',\n",
       "  'proced_iam',\n",
       "  'proced_indice_desat_rem',\n",
       "  'proced_indice_desat_nrem',\n",
       "  'proced_indice_desat_total',\n",
       "  'proced_oxim_menor90_total',\n",
       "  'proced_oxim_menor80_total',\n",
       "  'proced_oxim_menor70_total',\n",
       "  'proced_oxim_menor60_total',\n",
       "  'proced_t90',\n",
       "  'proced_ih',\n",
       "  'proced_iah',\n",
       "  'proced_numero_eventos_ah']}"
      ]
     },
     "execution_count": 161,
     "metadata": {},
     "output_type": "execute_result"
    }
   ],
   "source": [
    "validar_transformar_float(df,variables_float)"
   ]
  },
  {
   "cell_type": "code",
   "execution_count": 162,
   "id": "9cb65f5b",
   "metadata": {},
   "outputs": [
    {
     "name": "stderr",
     "output_type": "stream",
     "text": [
      "/tmp/ipykernel_92446/3509059149.py:20: UserWarning: Parsing dates in %m-%d-%Y format when dayfirst=True was specified. Pass `dayfirst=False` or specify a format to silence this warning.\n",
      "  return pd.to_datetime(str(fecha_str).strip(), dayfirst=True, errors='coerce')\n"
     ]
    },
    {
     "name": "stdout",
     "output_type": "stream",
     "text": [
      "\n",
      "************ Resultado de la transformación **************\n",
      "\n",
      "0 Variables no encontradas: []\n",
      "0 Variables no transformadas: []\n",
      "1 Variables transformadas exitosamente: ['proced_fecha']\n"
     ]
    },
    {
     "data": {
      "text/plain": [
       "{'no_encontradas': [],\n",
       " 'no_transformadas': [],\n",
       " 'transformadas': ['proced_fecha']}"
      ]
     },
     "execution_count": 162,
     "metadata": {},
     "output_type": "execute_result"
    }
   ],
   "source": [
    "validar_transformar_datetime(df,variables_datetime)"
   ]
  },
  {
   "cell_type": "code",
   "execution_count": 163,
   "id": "1203ef8b",
   "metadata": {},
   "outputs": [
    {
     "name": "stdout",
     "output_type": "stream",
     "text": [
      "\n",
      "************ Resultado de la transformación **************\n",
      "\n",
      "0 Variables no encontradas: []\n",
      "0 Variables no transformadas: []\n",
      "0 Variables transformadas con warnings: []\n",
      "10 Variables transformadas exitosamente: ['pte_nombre', 'pte_id', 'pte_medida_peso', 'pte_medida_talla', 'pte_medida_cuello', 'pte_medida_perimetro_abdominal', 'proced_solicita', 'proced_empresa', 'fuente', 'uuid']\n"
     ]
    },
    {
     "data": {
      "text/plain": [
       "{'no_encontradas': [],\n",
       " 'no_transformadas': [],\n",
       " 'con_warnings': [],\n",
       " 'transformadas': ['pte_nombre',\n",
       "  'pte_id',\n",
       "  'pte_medida_peso',\n",
       "  'pte_medida_talla',\n",
       "  'pte_medida_cuello',\n",
       "  'pte_medida_perimetro_abdominal',\n",
       "  'proced_solicita',\n",
       "  'proced_empresa',\n",
       "  'fuente',\n",
       "  'uuid']}"
      ]
     },
     "execution_count": 163,
     "metadata": {},
     "output_type": "execute_result"
    }
   ],
   "source": [
    "validar_transformar_str(df,variables_str)"
   ]
  },
  {
   "cell_type": "code",
   "execution_count": 39,
   "id": "12d1bcff",
   "metadata": {},
   "outputs": [
    {
     "data": {
      "text/plain": [
       "pte_nombre                          string[python]\n",
       "pte_edad_anos                              float64\n",
       "pte_edad_meses                             float64\n",
       "pte_edad_dias                              float64\n",
       "pte_id                              string[python]\n",
       "pte_peso                                   float64\n",
       "pte_medida_peso                     string[python]\n",
       "pte_talla                                  float64\n",
       "pte_medida_talla                    string[python]\n",
       "pte_imc                                    float64\n",
       "pte_cuello                                 float64\n",
       "pte_medida_cuello                   string[python]\n",
       "pte_perimetro_abdominal                    float64\n",
       "pte_medida_perimetro_abdominal      string[python]\n",
       "proced_solicita                     string[python]\n",
       "proced_empresa                      string[python]\n",
       "proced_fecha                        datetime64[ns]\n",
       "proced_epworth                             float64\n",
       "proced_tiempo_en_cama                      float64\n",
       "proced_tiempo_sueno                        float64\n",
       "proced_eficiencia_sueno                    float64\n",
       "proced_latencia_sueno_total                float64\n",
       "proced_latencia_sueno_rem                  float64\n",
       "proced_indice_microalertamientos           float64\n",
       "proced_porcentaje_sueno_rem                float64\n",
       "proced_porcentaje_sueno_profundo           float64\n",
       "proced_iac                                 float64\n",
       "proced_iao                                 float64\n",
       "proced_iam                                 float64\n",
       "proced_indice_desat_rem                    float64\n",
       "proced_indice_desat_nrem                   float64\n",
       "proced_indice_desat_total                  float64\n",
       "proced_oxim_menor90_total                  float64\n",
       "proced_oxim_menor80_total                  float64\n",
       "proced_oxim_menor70_total                  float64\n",
       "proced_oxim_menor60_total                  float64\n",
       "proced_t90                                 float64\n",
       "proced_numero_eventos_ah                   float64\n",
       "proced_ih                                  float64\n",
       "proced_iah                                 float64\n",
       "fuente                              string[python]\n",
       "uuid                                string[python]\n",
       "dtype: object"
      ]
     },
     "execution_count": 39,
     "metadata": {},
     "output_type": "execute_result"
    }
   ],
   "source": [
    "df.dtypes"
   ]
  },
  {
   "cell_type": "markdown",
   "id": "6928f8d5",
   "metadata": {},
   "source": [
    "# 3 Transformación"
   ]
  },
  {
   "cell_type": "markdown",
   "id": "fbb9ca89",
   "metadata": {},
   "source": [
    "## 3.1 Edad a años"
   ]
  },
  {
   "cell_type": "code",
   "execution_count": 164,
   "id": "cd868d87",
   "metadata": {},
   "outputs": [],
   "source": [
    "df[\"edad_anos_decimal\"] = (\n",
    "    df[\"pte_edad_anos\"].fillna(0) +\n",
    "    df[\"pte_edad_meses\"].fillna(0) / 12 +\n",
    "    df[\"pte_edad_dias\"].fillna(0) / 365.25\n",
    ")\n"
   ]
  },
  {
   "cell_type": "code",
   "execution_count": 165,
   "id": "0f374aa9",
   "metadata": {},
   "outputs": [
    {
     "name": "stdout",
     "output_type": "stream",
     "text": [
      "27.0\n",
      "nan\n",
      "nan\n",
      "27.0\n"
     ]
    }
   ],
   "source": [
    "print(df['pte_edad_anos'][1000])\n",
    "print(df['pte_edad_meses'][1000])\n",
    "print(df['pte_edad_dias'][1000])\n",
    "print(df['edad_anos_decimal'][1000])"
   ]
  },
  {
   "cell_type": "code",
   "execution_count": 166,
   "id": "92348a40",
   "metadata": {},
   "outputs": [
    {
     "data": {
      "text/plain": [
       "9837     13.0\n",
       "9693     60.0\n",
       "18959    75.0\n",
       "7703     54.0\n",
       "8197     47.0\n",
       "14484    53.0\n",
       "11337    32.0\n",
       "4962      9.0\n",
       "16484    41.0\n",
       "11541    59.0\n",
       "Name: edad_anos_decimal, dtype: float64"
      ]
     },
     "execution_count": 166,
     "metadata": {},
     "output_type": "execute_result"
    }
   ],
   "source": [
    "df['edad_anos_decimal'].sample(10)"
   ]
  },
  {
   "cell_type": "markdown",
   "id": "aff9b2d9",
   "metadata": {},
   "source": [
    "## 3.2 Peso a Kg"
   ]
  },
  {
   "cell_type": "code",
   "execution_count": 167,
   "id": "2e8ab0e8",
   "metadata": {},
   "outputs": [
    {
     "data": {
      "text/plain": [
       "pte_medida_peso\n",
       "kg    13994\n",
       "Kg     5627\n",
       "g        25\n",
       "kl        1\n",
       "Name: count, dtype: Int64"
      ]
     },
     "execution_count": 167,
     "metadata": {},
     "output_type": "execute_result"
    }
   ],
   "source": [
    "df['pte_medida_peso'].value_counts()"
   ]
  },
  {
   "cell_type": "code",
   "execution_count": 168,
   "id": "d44cd1f7",
   "metadata": {},
   "outputs": [],
   "source": [
    "# Unificación de unidades: todo a minúsculas y sin espacios\n",
    "df[\"pte_medida_peso\"] = df[\"pte_medida_peso\"].str.lower().str.strip()\n",
    "\n",
    "# Definimos sets de unidades por tipo\n",
    "unidades_kg = {\"kg\", \"kgs\", \"kgr\", \"kl\"}\n",
    "unidades_g = {\"g\", \"gr\", \"grs\"}\n",
    "\n",
    "# Cálculo de peso en kilogramos\n",
    "df[\"peso_kg\"] = df.apply(\n",
    "    lambda row: row[\"pte_peso\"] / 1000 if row[\"pte_medida_peso\"] in unidades_g\n",
    "    else row[\"pte_peso\"] if row[\"pte_medida_peso\"] in unidades_kg\n",
    "    else None,  # o np.nan\n",
    "    axis=1\n",
    ")\n"
   ]
  },
  {
   "cell_type": "code",
   "execution_count": 169,
   "id": "1e031fff",
   "metadata": {},
   "outputs": [
    {
     "data": {
      "text/plain": [
       "Series([], Name: count, dtype: Int64)"
      ]
     },
     "execution_count": 169,
     "metadata": {},
     "output_type": "execute_result"
    }
   ],
   "source": [
    "# Verificación de que no hay unidades no contempladas\n",
    "df[~df[\"pte_medida_peso\"].isin(unidades_kg.union(unidades_g))][\"pte_medida_peso\"].value_counts()"
   ]
  },
  {
   "cell_type": "markdown",
   "id": "02119bc8",
   "metadata": {},
   "source": [
    "## 3.3 Talla a cms"
   ]
  },
  {
   "cell_type": "code",
   "execution_count": 170,
   "id": "233491c6",
   "metadata": {},
   "outputs": [
    {
     "data": {
      "text/plain": [
       "pte_medida_talla\n",
       "cm    19137\n",
       "m       515\n",
       "Cm        5\n",
       "a         1\n",
       "Name: count, dtype: Int64"
      ]
     },
     "execution_count": 170,
     "metadata": {},
     "output_type": "execute_result"
    }
   ],
   "source": [
    "df['pte_medida_talla'].value_counts()"
   ]
  },
  {
   "cell_type": "code",
   "execution_count": 171,
   "id": "2a4d840c",
   "metadata": {},
   "outputs": [],
   "source": [
    "# Limpieza de texto\n",
    "df[\"pte_medida_talla\"] = df[\"pte_medida_talla\"].str.lower().str.strip()\n",
    "\n",
    "# Definir sets de unidades\n",
    "unidades_metros = {\"m\", \"mts\", \"metros\"}\n",
    "unidades_centimetros = {\"c\", \"cm\", \"cms\", \"a\"}\n",
    "\n",
    "# Reemplazar nulos por 0 (si lo consideras seguro)\n",
    "df[\"pte_talla\"] = df[\"pte_talla\"].fillna(0)\n",
    "\n",
    "# Calcular talla en cm\n",
    "df[\"talla_cm\"] = df.apply(\n",
    "    lambda row: row[\"pte_talla\"] * 100 if row[\"pte_medida_talla\"] in unidades_metros\n",
    "    else row[\"pte_talla\"] if row[\"pte_medida_talla\"] in unidades_centimetros\n",
    "    else None,\n",
    "    axis=1\n",
    ")"
   ]
  },
  {
   "cell_type": "code",
   "execution_count": 172,
   "id": "d023ff50",
   "metadata": {},
   "outputs": [
    {
     "data": {
      "text/plain": [
       "pte_medida_talla\n",
       "a    1\n",
       "Name: count, dtype: Int64"
      ]
     },
     "execution_count": 172,
     "metadata": {},
     "output_type": "execute_result"
    }
   ],
   "source": [
    "# Verificación de que no hay unidades no contempladas\n",
    "df[~df[\"pte_medida_talla\"].isin([\"cm\", \"m\"])][\"pte_medida_talla\"].value_counts()"
   ]
  },
  {
   "cell_type": "code",
   "execution_count": 173,
   "id": "08f2d946",
   "metadata": {},
   "outputs": [
    {
     "data": {
      "text/plain": [
       "np.int64(133)"
      ]
     },
     "execution_count": 173,
     "metadata": {},
     "output_type": "execute_result"
    }
   ],
   "source": [
    "df[\"talla_cm\"].isna().sum()"
   ]
  },
  {
   "cell_type": "markdown",
   "id": "76c50478",
   "metadata": {},
   "source": [
    "## 3.4 Cuello a cms"
   ]
  },
  {
   "cell_type": "code",
   "execution_count": 174,
   "id": "43e4837c",
   "metadata": {},
   "outputs": [
    {
     "data": {
      "text/plain": [
       "pte_medida_cuello\n",
       "cm     19702\n",
       "cms       13\n",
       "m          5\n",
       "Cm         2\n",
       "CM         1\n",
       "Name: count, dtype: Int64"
      ]
     },
     "execution_count": 174,
     "metadata": {},
     "output_type": "execute_result"
    }
   ],
   "source": [
    "df['pte_medida_cuello'].value_counts()"
   ]
  },
  {
   "cell_type": "code",
   "execution_count": 175,
   "id": "4b0397aa",
   "metadata": {},
   "outputs": [],
   "source": [
    "# Limpieza del texto\n",
    "df[\"pte_medida_cuello\"] = df[\"pte_medida_cuello\"].str.lower().str.strip()\n",
    "\n",
    "# Definir unidades válidas\n",
    "unidades_metros = {\"m\", \"mts\", \"metros\"}\n",
    "unidades_centimetros = {\"c\", \"cm\", \"cms\"}\n",
    "unidades_cuello_validas = unidades_metros.union(unidades_centimetros)\n",
    "\n",
    "# Rellenar nulos si aplica\n",
    "df[\"pte_cuello\"] = df[\"pte_cuello\"].fillna(0)\n",
    "\n",
    "# Calcular cuello en cm\n",
    "df[\"cuello_cm\"] = df.apply(\n",
    "    lambda row: row[\"pte_cuello\"] * 100 if row[\"pte_medida_cuello\"] in unidades_metros\n",
    "    else row[\"pte_cuello\"] if row[\"pte_medida_cuello\"] in unidades_centimetros\n",
    "    else None,\n",
    "    axis=1\n",
    ")"
   ]
  },
  {
   "cell_type": "code",
   "execution_count": 176,
   "id": "8d6a147e",
   "metadata": {},
   "outputs": [
    {
     "data": {
      "text/plain": [
       "Series([], Name: count, dtype: Int64)"
      ]
     },
     "execution_count": 176,
     "metadata": {},
     "output_type": "execute_result"
    }
   ],
   "source": [
    "df[~df[\"pte_medida_cuello\"].isin(unidades_cuello_validas)][\"pte_medida_cuello\"].value_counts()"
   ]
  },
  {
   "cell_type": "markdown",
   "id": "7841f1fc",
   "metadata": {},
   "source": [
    "## 3.5 Perimetro abdominal a cms"
   ]
  },
  {
   "cell_type": "code",
   "execution_count": 177,
   "id": "ea4ca1c8",
   "metadata": {},
   "outputs": [
    {
     "data": {
      "text/plain": [
       "pte_medida_perimetro_abdominal\n",
       "cm     19656\n",
       "cms        8\n",
       "m          1\n",
       "ms         1\n",
       ".cm        1\n",
       "cm.        1\n",
       "ccm        1\n",
       "Name: count, dtype: Int64"
      ]
     },
     "execution_count": 177,
     "metadata": {},
     "output_type": "execute_result"
    }
   ],
   "source": [
    "df['pte_medida_perimetro_abdominal'].value_counts()"
   ]
  },
  {
   "cell_type": "code",
   "execution_count": 178,
   "id": "0db6ad15",
   "metadata": {},
   "outputs": [],
   "source": [
    "# Limpieza del texto\n",
    "df[\"pte_medida_perimetro_abdominal\"] = df[\"pte_medida_perimetro_abdominal\"].str.lower().str.strip()\n",
    "\n",
    "# Definir unidades válidas\n",
    "unidades_metros = {\"m\", \"ms\", \"mts\"}\n",
    "unidades_centimetros = {\"cm\", \"cms\", \"cm.\", \".cm\", \".ccm\", \"ccm\"}\n",
    "unidades_abdominal_validas = unidades_metros.union(unidades_centimetros)\n",
    "\n",
    "# Reemplazar nulos si aplica\n",
    "df[\"pte_perimetro_abdominal\"] = df[\"pte_perimetro_abdominal\"].fillna(0)\n",
    "\n",
    "# Calcular perímetro abdominal en cm\n",
    "df[\"perimetro_abdominal_cm\"] = df.apply(\n",
    "    lambda row: row[\"pte_perimetro_abdominal\"] * 100 if row[\"pte_medida_perimetro_abdominal\"] in unidades_metros\n",
    "    else row[\"pte_perimetro_abdominal\"] if row[\"pte_medida_perimetro_abdominal\"] in unidades_centimetros\n",
    "    else None,\n",
    "    axis=1\n",
    ")\n"
   ]
  },
  {
   "cell_type": "code",
   "execution_count": 179,
   "id": "1281c7f9",
   "metadata": {},
   "outputs": [
    {
     "data": {
      "text/plain": [
       "Series([], Name: count, dtype: Int64)"
      ]
     },
     "execution_count": 179,
     "metadata": {},
     "output_type": "execute_result"
    }
   ],
   "source": [
    "df[~df[\"pte_medida_perimetro_abdominal\"].isin(unidades_abdominal_validas)][\"pte_medida_perimetro_abdominal\"].value_counts()"
   ]
  },
  {
   "cell_type": "markdown",
   "id": "04acb014",
   "metadata": {},
   "source": [
    "# 4 EDA"
   ]
  },
  {
   "cell_type": "markdown",
   "id": "53aa3c3a",
   "metadata": {},
   "source": [
    "## 4.1 Sumamrize dataframe"
   ]
  },
  {
   "cell_type": "markdown",
   "id": "b54e1e74",
   "metadata": {},
   "source": [
    "### a. Definición"
   ]
  },
  {
   "cell_type": "code",
   "execution_count": 72,
   "id": "d0e3435d",
   "metadata": {},
   "outputs": [],
   "source": [
    "from IPython.display import display, HTML\n",
    "\n",
    "def format_large_numbers(value):\n",
    "    \"\"\"\n",
    "    Formatea valores numéricos.\n",
    "    - Valores mayores o menores a ±1E+06 se muestran en notación científica.\n",
    "    - Otros valores se redondean a dos decimales.\n",
    "    \"\"\"\n",
    "    if isinstance(value, (int, float)):\n",
    "        if abs(value) > 1e6:\n",
    "            return f\"{value:.2E}\"\n",
    "        return f\"{value:.2f}\"\n",
    "    return value  # Retorna el valor original si no es numérico\n",
    "\n",
    "\n",
    "def summarize_statistics(df):\n",
    "    \"\"\"\n",
    "    Extrae estadísticas básicas (mean, min, max) y las formatea,\n",
    "    aplicando el cálculo solo a columnas numéricas.\n",
    "    \"\"\"\n",
    "    # Seleccionamos solo las columnas numéricas\n",
    "    df_numeric = df.select_dtypes(include=[np.number])\n",
    "    \n",
    "    # Reemplazamos los valores -9999 por NaN en las columnas numéricas\n",
    "    df_numeric = df_numeric.replace({-9999: np.nan})\n",
    "    \n",
    "    # Calculamos las estadísticas básicas sobre las columnas numéricas\n",
    "    stats = df_numeric.describe().loc[['mean', 'min', 'max']]\n",
    "    \n",
    "    # Usamos apply con map para evitar FutureWarning de applymap\n",
    "    formatted_stats = stats.apply(lambda col: col.map(format_large_numbers))\n",
    "    \n",
    "    return formatted_stats\n",
    "\n",
    "\n",
    "def calculate_missing_values(df):\n",
    "    \"\"\"\n",
    "    Calcula la cantidad y porcentaje de valores faltantes.\n",
    "    \"\"\"\n",
    "    missing_values = df.isnull().sum()\n",
    "    missing_percentage = (missing_values / len(df)) * 100\n",
    "    return pd.DataFrame({\n",
    "        'Missing Values': missing_values,\n",
    "        'Missing %': missing_percentage.map(lambda x: f\"{x:.2f}%\")\n",
    "    })\n",
    "\n",
    "\n",
    "def calculate_unique_values(df):\n",
    "    \"\"\"\n",
    "    Calcula la cantidad y porcentaje de valores únicos.\n",
    "    \"\"\"\n",
    "    unique_values = df.nunique()\n",
    "    unique_percentage = (unique_values / len(df)) * 100\n",
    "    return pd.DataFrame({\n",
    "        'Unique Values': unique_values,\n",
    "        'Unique %': unique_percentage.map(lambda x: f\"{x:.2f}%\")\n",
    "    })\n",
    "\n",
    "\n",
    "def extract_sample_values(df):\n",
    "    \"\"\"\n",
    "    Extrae un valor de muestra por columna, excluyendo NaN y ceros.\n",
    "    \"\"\"\n",
    "    samples = []\n",
    "    for col in df.columns:\n",
    "        non_na_values = df[col].dropna()\n",
    "        non_zero_values = non_na_values[non_na_values != 0]\n",
    "        if not non_zero_values.empty:\n",
    "            samples.append(non_zero_values.iloc[0])  # Primer valor válido\n",
    "        else:\n",
    "            samples.append(\"N/A\")\n",
    "    return samples\n",
    "\n",
    "\n",
    "def calculate_category_frequencies(df):\n",
    "    \"\"\"\n",
    "    Calcula la frecuencia de valores en columnas categóricas,\n",
    "    ignorando variables que contienen 'fecha'.\n",
    "    Limita a 10 categorías y agrupa las restantes en 'OTROS'.\n",
    "    \"\"\"\n",
    "    frequencies = []\n",
    "    for col in df.columns:\n",
    "        if df[col].dtype == 'object' or df[col].dtype.name == 'category':\n",
    "            if 'fecha' not in col.lower():\n",
    "                # Calcular frecuencias\n",
    "                freq = df[col].value_counts()\n",
    "\n",
    "                # Separar las 10 más frecuentes y agrupar el resto en \"OTROS\"\n",
    "                top_10 = freq[:10]\n",
    "                others_sum = freq[10:].sum()\n",
    "                if others_sum > 0:\n",
    "                    top_10 = pd.concat([top_10, pd.Series({'OTROS': others_sum})])\n",
    "\n",
    "                # Formatear como cadena concatenada\n",
    "                freq_str = '\"{}\"'.format(' | '.join([f\"{k}: {v}\" for k, v in top_10.items()]))\n",
    "\n",
    "                frequencies.append(freq_str)\n",
    "            else:\n",
    "                frequencies.append(\"N/A\")\n",
    "        else:\n",
    "            frequencies.append(\"N/A\")\n",
    "    return frequencies\n",
    "\n",
    "\n",
    "def summarize_dataframe(df):\n",
    "    \"\"\"\n",
    "    Genera un resumen detallado de un DataFrame.\n",
    "    \"\"\"\n",
    "    variables = df.columns.tolist()\n",
    "    summary_stats = summarize_statistics(df)\n",
    "    data_types = df.dtypes\n",
    "    missing_info = calculate_missing_values(df)\n",
    "    unique_info = calculate_unique_values(df)\n",
    "    sample_values = extract_sample_values(df)\n",
    "    category_frequencies = calculate_category_frequencies(df)\n",
    "\n",
    "    # Crear DataFrame resumen\n",
    "    summary_df = pd.DataFrame({\n",
    "        'Variable': variables,\n",
    "        'Data Type': [data_types[col] for col in variables],\n",
    "        'Count': [df[col].count() for col in variables],\n",
    "        'Unique Values': [f\"{unique_info.loc[col, 'Unique Values']} ({unique_info.loc[col, 'Unique %']})\" for col in variables],\n",
    "        'Category Frequencies': category_frequencies,\n",
    "        'Missing Values': [f\"{missing_info.loc[col, 'Missing Values']} ({missing_info.loc[col, 'Missing %']})\" for col in variables],\n",
    "        'Min': [summary_stats[col]['min'] if col in summary_stats.columns else \"N/A\" for col in variables],\n",
    "        'Mean': [summary_stats[col]['mean'] if col in summary_stats.columns else \"N/A\" for col in variables],\n",
    "        'Max': [summary_stats[col]['max'] if col in summary_stats.columns else \"N/A\" for col in variables],\n",
    "        'Sample': sample_values\n",
    "    })\n",
    "\n",
    "    # Mostrar como HTML\n",
    "    display(HTML(summary_df.to_html(index=False)))\n"
   ]
  },
  {
   "cell_type": "markdown",
   "id": "cd09d0b8",
   "metadata": {},
   "source": [
    "### b. Aplicación"
   ]
  },
  {
   "cell_type": "code",
   "execution_count": 73,
   "id": "a9b7e16f",
   "metadata": {},
   "outputs": [
    {
     "data": {
      "text/html": [
       "<table border=\"1\" class=\"dataframe\">\n",
       "  <thead>\n",
       "    <tr style=\"text-align: right;\">\n",
       "      <th>Variable</th>\n",
       "      <th>Data Type</th>\n",
       "      <th>Count</th>\n",
       "      <th>Unique Values</th>\n",
       "      <th>Category Frequencies</th>\n",
       "      <th>Missing Values</th>\n",
       "      <th>Min</th>\n",
       "      <th>Mean</th>\n",
       "      <th>Max</th>\n",
       "      <th>Sample</th>\n",
       "    </tr>\n",
       "  </thead>\n",
       "  <tbody>\n",
       "    <tr>\n",
       "      <td>pte_nombre</td>\n",
       "      <td>string[python]</td>\n",
       "      <td>19790</td>\n",
       "      <td>18893 (95.46%)</td>\n",
       "      <td>N/A</td>\n",
       "      <td>1 (0.01%)</td>\n",
       "      <td>N/A</td>\n",
       "      <td>N/A</td>\n",
       "      <td>N/A</td>\n",
       "      <td>ABRAHAM FONTALVO ROMERO</td>\n",
       "    </tr>\n",
       "    <tr>\n",
       "      <td>pte_edad_anos</td>\n",
       "      <td>float64</td>\n",
       "      <td>19704</td>\n",
       "      <td>101 (0.51%)</td>\n",
       "      <td>N/A</td>\n",
       "      <td>87 (0.44%)</td>\n",
       "      <td>0.00</td>\n",
       "      <td>52.87</td>\n",
       "      <td>354.00</td>\n",
       "      <td>60.0</td>\n",
       "    </tr>\n",
       "    <tr>\n",
       "      <td>pte_edad_meses</td>\n",
       "      <td>float64</td>\n",
       "      <td>75</td>\n",
       "      <td>23 (0.12%)</td>\n",
       "      <td>N/A</td>\n",
       "      <td>19716 (99.62%)</td>\n",
       "      <td>1.00</td>\n",
       "      <td>11.27</td>\n",
       "      <td>23.00</td>\n",
       "      <td>8.0</td>\n",
       "    </tr>\n",
       "    <tr>\n",
       "      <td>pte_edad_dias</td>\n",
       "      <td>float64</td>\n",
       "      <td>36</td>\n",
       "      <td>21 (0.11%)</td>\n",
       "      <td>N/A</td>\n",
       "      <td>19755 (99.82%)</td>\n",
       "      <td>2.00</td>\n",
       "      <td>15.72</td>\n",
       "      <td>45.00</td>\n",
       "      <td>45.0</td>\n",
       "    </tr>\n",
       "    <tr>\n",
       "      <td>pte_id</td>\n",
       "      <td>string[python]</td>\n",
       "      <td>19790</td>\n",
       "      <td>18820 (95.09%)</td>\n",
       "      <td>N/A</td>\n",
       "      <td>1 (0.01%)</td>\n",
       "      <td>N/A</td>\n",
       "      <td>N/A</td>\n",
       "      <td>N/A</td>\n",
       "      <td>91420156</td>\n",
       "    </tr>\n",
       "    <tr>\n",
       "      <td>pte_peso</td>\n",
       "      <td>float64</td>\n",
       "      <td>19696</td>\n",
       "      <td>479 (2.42%)</td>\n",
       "      <td>N/A</td>\n",
       "      <td>95 (0.48%)</td>\n",
       "      <td>0.00</td>\n",
       "      <td>78.01</td>\n",
       "      <td>8500.00</td>\n",
       "      <td>70.0</td>\n",
       "    </tr>\n",
       "    <tr>\n",
       "      <td>pte_medida_peso</td>\n",
       "      <td>string[python]</td>\n",
       "      <td>19647</td>\n",
       "      <td>3 (0.02%)</td>\n",
       "      <td>N/A</td>\n",
       "      <td>144 (0.73%)</td>\n",
       "      <td>N/A</td>\n",
       "      <td>N/A</td>\n",
       "      <td>N/A</td>\n",
       "      <td>kg</td>\n",
       "    </tr>\n",
       "    <tr>\n",
       "      <td>pte_talla</td>\n",
       "      <td>float64</td>\n",
       "      <td>19791</td>\n",
       "      <td>211 (1.07%)</td>\n",
       "      <td>N/A</td>\n",
       "      <td>0 (0.00%)</td>\n",
       "      <td>0.00</td>\n",
       "      <td>156.75</td>\n",
       "      <td>1680.00</td>\n",
       "      <td>170.0</td>\n",
       "    </tr>\n",
       "    <tr>\n",
       "      <td>pte_medida_talla</td>\n",
       "      <td>string[python]</td>\n",
       "      <td>19658</td>\n",
       "      <td>3 (0.02%)</td>\n",
       "      <td>N/A</td>\n",
       "      <td>133 (0.67%)</td>\n",
       "      <td>N/A</td>\n",
       "      <td>N/A</td>\n",
       "      <td>N/A</td>\n",
       "      <td>cm</td>\n",
       "    </tr>\n",
       "    <tr>\n",
       "      <td>pte_imc</td>\n",
       "      <td>float64</td>\n",
       "      <td>19598</td>\n",
       "      <td>2387 (12.06%)</td>\n",
       "      <td>N/A</td>\n",
       "      <td>193 (0.98%)</td>\n",
       "      <td>0.12</td>\n",
       "      <td>28.67</td>\n",
       "      <td>2583.00</td>\n",
       "      <td>24.2</td>\n",
       "    </tr>\n",
       "    <tr>\n",
       "      <td>pte_cuello</td>\n",
       "      <td>float64</td>\n",
       "      <td>19744</td>\n",
       "      <td>75 (0.38%)</td>\n",
       "      <td>N/A</td>\n",
       "      <td>47 (0.24%)</td>\n",
       "      <td>11.00</td>\n",
       "      <td>37.98</td>\n",
       "      <td>185.00</td>\n",
       "      <td>42.0</td>\n",
       "    </tr>\n",
       "    <tr>\n",
       "      <td>pte_medida_cuello</td>\n",
       "      <td>string[python]</td>\n",
       "      <td>19723</td>\n",
       "      <td>5 (0.03%)</td>\n",
       "      <td>N/A</td>\n",
       "      <td>68 (0.34%)</td>\n",
       "      <td>N/A</td>\n",
       "      <td>N/A</td>\n",
       "      <td>N/A</td>\n",
       "      <td>cm</td>\n",
       "    </tr>\n",
       "    <tr>\n",
       "      <td>pte_perimetro_abdominal</td>\n",
       "      <td>float64</td>\n",
       "      <td>19667</td>\n",
       "      <td>157 (0.79%)</td>\n",
       "      <td>N/A</td>\n",
       "      <td>124 (0.63%)</td>\n",
       "      <td>12.00</td>\n",
       "      <td>98.35</td>\n",
       "      <td>1116.00</td>\n",
       "      <td>97.0</td>\n",
       "    </tr>\n",
       "    <tr>\n",
       "      <td>pte_medida_perimetro_abdominal</td>\n",
       "      <td>string[python]</td>\n",
       "      <td>19669</td>\n",
       "      <td>7 (0.04%)</td>\n",
       "      <td>N/A</td>\n",
       "      <td>122 (0.62%)</td>\n",
       "      <td>N/A</td>\n",
       "      <td>N/A</td>\n",
       "      <td>N/A</td>\n",
       "      <td>cm</td>\n",
       "    </tr>\n",
       "    <tr>\n",
       "      <td>proced_solicita</td>\n",
       "      <td>string[python]</td>\n",
       "      <td>19759</td>\n",
       "      <td>9203 (46.50%)</td>\n",
       "      <td>N/A</td>\n",
       "      <td>32 (0.16%)</td>\n",
       "      <td>N/A</td>\n",
       "      <td>N/A</td>\n",
       "      <td>N/A</td>\n",
       "      <td>Dr. Victor Pena-Internista</td>\n",
       "    </tr>\n",
       "    <tr>\n",
       "      <td>proced_empresa</td>\n",
       "      <td>string[python]</td>\n",
       "      <td>19783</td>\n",
       "      <td>332 (1.68%)</td>\n",
       "      <td>N/A</td>\n",
       "      <td>8 (0.04%)</td>\n",
       "      <td>N/A</td>\n",
       "      <td>N/A</td>\n",
       "      <td>N/A</td>\n",
       "      <td>Ecopetrol</td>\n",
       "    </tr>\n",
       "    <tr>\n",
       "      <td>proced_fecha</td>\n",
       "      <td>datetime64[ns]</td>\n",
       "      <td>19455</td>\n",
       "      <td>848 (4.28%)</td>\n",
       "      <td>N/A</td>\n",
       "      <td>336 (1.70%)</td>\n",
       "      <td>N/A</td>\n",
       "      <td>N/A</td>\n",
       "      <td>N/A</td>\n",
       "      <td>2023-04-26 00:00:00</td>\n",
       "    </tr>\n",
       "    <tr>\n",
       "      <td>proced_epworth</td>\n",
       "      <td>float64</td>\n",
       "      <td>18042</td>\n",
       "      <td>28 (0.14%)</td>\n",
       "      <td>N/A</td>\n",
       "      <td>1749 (8.84%)</td>\n",
       "      <td>0.00</td>\n",
       "      <td>7.66</td>\n",
       "      <td>136.00</td>\n",
       "      <td>7.0</td>\n",
       "    </tr>\n",
       "    <tr>\n",
       "      <td>proced_tiempo_en_cama</td>\n",
       "      <td>float64</td>\n",
       "      <td>19786</td>\n",
       "      <td>2587 (13.07%)</td>\n",
       "      <td>N/A</td>\n",
       "      <td>5 (0.03%)</td>\n",
       "      <td>48.10</td>\n",
       "      <td>465.21</td>\n",
       "      <td>984.50</td>\n",
       "      <td>545.5</td>\n",
       "    </tr>\n",
       "    <tr>\n",
       "      <td>proced_tiempo_sueno</td>\n",
       "      <td>float64</td>\n",
       "      <td>19786</td>\n",
       "      <td>1005 (5.08%)</td>\n",
       "      <td>N/A</td>\n",
       "      <td>5 (0.03%)</td>\n",
       "      <td>0.00</td>\n",
       "      <td>374.56</td>\n",
       "      <td>820.50</td>\n",
       "      <td>422.0</td>\n",
       "    </tr>\n",
       "    <tr>\n",
       "      <td>proced_eficiencia_sueno</td>\n",
       "      <td>float64</td>\n",
       "      <td>19563</td>\n",
       "      <td>750 (3.79%)</td>\n",
       "      <td>N/A</td>\n",
       "      <td>228 (1.15%)</td>\n",
       "      <td>0.00</td>\n",
       "      <td>80.61</td>\n",
       "      <td>100.00</td>\n",
       "      <td>77.4</td>\n",
       "    </tr>\n",
       "    <tr>\n",
       "      <td>proced_latencia_sueno_total</td>\n",
       "      <td>float64</td>\n",
       "      <td>19759</td>\n",
       "      <td>1293 (6.53%)</td>\n",
       "      <td>N/A</td>\n",
       "      <td>32 (0.16%)</td>\n",
       "      <td>0.00</td>\n",
       "      <td>25.33</td>\n",
       "      <td>443.20</td>\n",
       "      <td>43.5</td>\n",
       "    </tr>\n",
       "    <tr>\n",
       "      <td>proced_latencia_sueno_rem</td>\n",
       "      <td>float64</td>\n",
       "      <td>19383</td>\n",
       "      <td>835 (4.22%)</td>\n",
       "      <td>N/A</td>\n",
       "      <td>408 (2.06%)</td>\n",
       "      <td>0.00</td>\n",
       "      <td>118.98</td>\n",
       "      <td>517.00</td>\n",
       "      <td>40.0</td>\n",
       "    </tr>\n",
       "    <tr>\n",
       "      <td>proced_indice_microalertamientos</td>\n",
       "      <td>float64</td>\n",
       "      <td>19780</td>\n",
       "      <td>849 (4.29%)</td>\n",
       "      <td>N/A</td>\n",
       "      <td>11 (0.06%)</td>\n",
       "      <td>0.00</td>\n",
       "      <td>14.90</td>\n",
       "      <td>800.90</td>\n",
       "      <td>32.1</td>\n",
       "    </tr>\n",
       "    <tr>\n",
       "      <td>proced_porcentaje_sueno_rem</td>\n",
       "      <td>float64</td>\n",
       "      <td>19777</td>\n",
       "      <td>591 (2.99%)</td>\n",
       "      <td>N/A</td>\n",
       "      <td>14 (0.07%)</td>\n",
       "      <td>0.00</td>\n",
       "      <td>19.30</td>\n",
       "      <td>188.50</td>\n",
       "      <td>21.2</td>\n",
       "    </tr>\n",
       "    <tr>\n",
       "      <td>proced_porcentaje_sueno_profundo</td>\n",
       "      <td>float64</td>\n",
       "      <td>19753</td>\n",
       "      <td>924 (4.67%)</td>\n",
       "      <td>N/A</td>\n",
       "      <td>38 (0.19%)</td>\n",
       "      <td>0.00</td>\n",
       "      <td>20.11</td>\n",
       "      <td>354.00</td>\n",
       "      <td>16.1</td>\n",
       "    </tr>\n",
       "    <tr>\n",
       "      <td>proced_iac</td>\n",
       "      <td>float64</td>\n",
       "      <td>19789</td>\n",
       "      <td>286 (1.45%)</td>\n",
       "      <td>N/A</td>\n",
       "      <td>2 (0.01%)</td>\n",
       "      <td>0.00</td>\n",
       "      <td>0.62</td>\n",
       "      <td>74.90</td>\n",
       "      <td>13.2</td>\n",
       "    </tr>\n",
       "    <tr>\n",
       "      <td>proced_iao</td>\n",
       "      <td>float64</td>\n",
       "      <td>19789</td>\n",
       "      <td>758 (3.83%)</td>\n",
       "      <td>N/A</td>\n",
       "      <td>2 (0.01%)</td>\n",
       "      <td>0.00</td>\n",
       "      <td>6.73</td>\n",
       "      <td>132.90</td>\n",
       "      <td>31.8</td>\n",
       "    </tr>\n",
       "    <tr>\n",
       "      <td>proced_iam</td>\n",
       "      <td>float64</td>\n",
       "      <td>19789</td>\n",
       "      <td>132 (0.67%)</td>\n",
       "      <td>N/A</td>\n",
       "      <td>2 (0.01%)</td>\n",
       "      <td>0.00</td>\n",
       "      <td>0.14</td>\n",
       "      <td>38.30</td>\n",
       "      <td>0.8</td>\n",
       "    </tr>\n",
       "    <tr>\n",
       "      <td>proced_indice_desat_rem</td>\n",
       "      <td>float64</td>\n",
       "      <td>19730</td>\n",
       "      <td>1096 (5.54%)</td>\n",
       "      <td>N/A</td>\n",
       "      <td>61 (0.31%)</td>\n",
       "      <td>0.00</td>\n",
       "      <td>27.99</td>\n",
       "      <td>252.00</td>\n",
       "      <td>26.0</td>\n",
       "    </tr>\n",
       "    <tr>\n",
       "      <td>proced_indice_desat_nrem</td>\n",
       "      <td>float64</td>\n",
       "      <td>19730</td>\n",
       "      <td>1392 (7.03%)</td>\n",
       "      <td>N/A</td>\n",
       "      <td>61 (0.31%)</td>\n",
       "      <td>0.00</td>\n",
       "      <td>35.18</td>\n",
       "      <td>765.00</td>\n",
       "      <td>78.0</td>\n",
       "    </tr>\n",
       "    <tr>\n",
       "      <td>proced_indice_desat_total</td>\n",
       "      <td>float64</td>\n",
       "      <td>19723</td>\n",
       "      <td>1057 (5.34%)</td>\n",
       "      <td>N/A</td>\n",
       "      <td>68 (0.34%)</td>\n",
       "      <td>0.00</td>\n",
       "      <td>22.71</td>\n",
       "      <td>186.30</td>\n",
       "      <td>28.3</td>\n",
       "    </tr>\n",
       "    <tr>\n",
       "      <td>proced_oxim_menor90_total</td>\n",
       "      <td>float64</td>\n",
       "      <td>19734</td>\n",
       "      <td>3160 (15.97%)</td>\n",
       "      <td>N/A</td>\n",
       "      <td>57 (0.29%)</td>\n",
       "      <td>0.00</td>\n",
       "      <td>61.48</td>\n",
       "      <td>46161.40</td>\n",
       "      <td>3.0</td>\n",
       "    </tr>\n",
       "    <tr>\n",
       "      <td>proced_oxim_menor80_total</td>\n",
       "      <td>float64</td>\n",
       "      <td>19732</td>\n",
       "      <td>622 (3.14%)</td>\n",
       "      <td>N/A</td>\n",
       "      <td>59 (0.30%)</td>\n",
       "      <td>0.00</td>\n",
       "      <td>3.02</td>\n",
       "      <td>413.10</td>\n",
       "      <td>0.1</td>\n",
       "    </tr>\n",
       "    <tr>\n",
       "      <td>proced_oxim_menor70_total</td>\n",
       "      <td>float64</td>\n",
       "      <td>19713</td>\n",
       "      <td>278 (1.40%)</td>\n",
       "      <td>N/A</td>\n",
       "      <td>78 (0.39%)</td>\n",
       "      <td>0.00</td>\n",
       "      <td>0.59</td>\n",
       "      <td>273.50</td>\n",
       "      <td>0.1</td>\n",
       "    </tr>\n",
       "    <tr>\n",
       "      <td>proced_oxim_menor60_total</td>\n",
       "      <td>float64</td>\n",
       "      <td>19679</td>\n",
       "      <td>130 (0.66%)</td>\n",
       "      <td>N/A</td>\n",
       "      <td>112 (0.57%)</td>\n",
       "      <td>0.00</td>\n",
       "      <td>0.11</td>\n",
       "      <td>242.40</td>\n",
       "      <td>0.1</td>\n",
       "    </tr>\n",
       "    <tr>\n",
       "      <td>proced_t90</td>\n",
       "      <td>float64</td>\n",
       "      <td>19679</td>\n",
       "      <td>1028 (5.19%)</td>\n",
       "      <td>N/A</td>\n",
       "      <td>112 (0.57%)</td>\n",
       "      <td>0.00</td>\n",
       "      <td>16.25</td>\n",
       "      <td>100.00</td>\n",
       "      <td>0.7</td>\n",
       "    </tr>\n",
       "    <tr>\n",
       "      <td>proced_numero_eventos_ah</td>\n",
       "      <td>float64</td>\n",
       "      <td>19787</td>\n",
       "      <td>731 (3.69%)</td>\n",
       "      <td>N/A</td>\n",
       "      <td>4 (0.02%)</td>\n",
       "      <td>0.00</td>\n",
       "      <td>136.20</td>\n",
       "      <td>1221.00</td>\n",
       "      <td>329.0</td>\n",
       "    </tr>\n",
       "    <tr>\n",
       "      <td>proced_ih</td>\n",
       "      <td>float64</td>\n",
       "      <td>19789</td>\n",
       "      <td>772 (3.90%)</td>\n",
       "      <td>N/A</td>\n",
       "      <td>2 (0.01%)</td>\n",
       "      <td>0.00</td>\n",
       "      <td>14.64</td>\n",
       "      <td>147.90</td>\n",
       "      <td>1.7</td>\n",
       "    </tr>\n",
       "    <tr>\n",
       "      <td>proced_iah</td>\n",
       "      <td>float64</td>\n",
       "      <td>19789</td>\n",
       "      <td>1051 (5.31%)</td>\n",
       "      <td>N/A</td>\n",
       "      <td>2 (0.01%)</td>\n",
       "      <td>0.00</td>\n",
       "      <td>22.12</td>\n",
       "      <td>164.10</td>\n",
       "      <td>46.8</td>\n",
       "    </tr>\n",
       "    <tr>\n",
       "      <td>fuente</td>\n",
       "      <td>string[python]</td>\n",
       "      <td>19791</td>\n",
       "      <td>2 (0.01%)</td>\n",
       "      <td>N/A</td>\n",
       "      <td>0 (0.00%)</td>\n",
       "      <td>N/A</td>\n",
       "      <td>N/A</td>\n",
       "      <td>N/A</td>\n",
       "      <td>/home/clisueno/output/resultados_psg_rtf.csv</td>\n",
       "    </tr>\n",
       "    <tr>\n",
       "      <td>uuid</td>\n",
       "      <td>string[python]</td>\n",
       "      <td>19791</td>\n",
       "      <td>19791 (100.00%)</td>\n",
       "      <td>N/A</td>\n",
       "      <td>0 (0.00%)</td>\n",
       "      <td>N/A</td>\n",
       "      <td>N/A</td>\n",
       "      <td>N/A</td>\n",
       "      <td>787073a6-9f9e-4dbb-89f0-36d1726ed340</td>\n",
       "    </tr>\n",
       "    <tr>\n",
       "      <td>peso_kg</td>\n",
       "      <td>float64</td>\n",
       "      <td>19641</td>\n",
       "      <td>490 (2.48%)</td>\n",
       "      <td>N/A</td>\n",
       "      <td>150 (0.76%)</td>\n",
       "      <td>0.00</td>\n",
       "      <td>75.89</td>\n",
       "      <td>210.00</td>\n",
       "      <td>70.0</td>\n",
       "    </tr>\n",
       "    <tr>\n",
       "      <td>talla_cm</td>\n",
       "      <td>float64</td>\n",
       "      <td>19657</td>\n",
       "      <td>243 (1.23%)</td>\n",
       "      <td>N/A</td>\n",
       "      <td>134 (0.68%)</td>\n",
       "      <td>0.58</td>\n",
       "      <td>307.99</td>\n",
       "      <td>19400.00</td>\n",
       "      <td>170.0</td>\n",
       "    </tr>\n",
       "  </tbody>\n",
       "</table>"
      ],
      "text/plain": [
       "<IPython.core.display.HTML object>"
      ]
     },
     "metadata": {},
     "output_type": "display_data"
    }
   ],
   "source": [
    "summarize_dataframe(df)"
   ]
  },
  {
   "cell_type": "code",
   "execution_count": null,
   "id": "bd09b463",
   "metadata": {},
   "outputs": [],
   "source": []
  },
  {
   "cell_type": "code",
   "execution_count": null,
   "id": "ff48a8ab",
   "metadata": {},
   "outputs": [],
   "source": []
  },
  {
   "cell_type": "markdown",
   "id": "a08c3be5",
   "metadata": {},
   "source": [
    "# 5. Carga a BQ"
   ]
  },
  {
   "cell_type": "markdown",
   "id": "92b5d7b7",
   "metadata": {},
   "source": [
    "## 5.1 Esquema BQ"
   ]
  },
  {
   "cell_type": "markdown",
   "id": "7bf928e6",
   "metadata": {},
   "source": [
    "### Definir esquema"
   ]
  },
  {
   "cell_type": "code",
   "execution_count": 180,
   "id": "db103d1d",
   "metadata": {},
   "outputs": [],
   "source": [
    "from google.cloud import bigquery\n",
    "\n",
    "schemaj = [\n",
    "    bigquery.SchemaField('uuid', 'STRING', mode='NULLABLE'),\n",
    "    bigquery.SchemaField('pte_nombre', 'STRING', mode='NULLABLE'),\n",
    "    bigquery.SchemaField('pte_edad_anos', 'INTEGER', mode='NULLABLE'),\n",
    "    bigquery.SchemaField('pte_edad_meses', 'INTEGER', mode='NULLABLE'),\n",
    "    bigquery.SchemaField('pte_edad_dias', 'INTEGER', mode='NULLABLE'),\n",
    "    bigquery.SchemaField('edad_anos_decimal', 'FLOAT', mode='NULLABLE'),\n",
    "    bigquery.SchemaField('pte_id', 'STRING', mode='NULLABLE'),\n",
    "    bigquery.SchemaField('pte_peso', 'FLOAT', mode='NULLABLE'),\n",
    "    bigquery.SchemaField('pte_medida_peso', 'STRING', mode='NULLABLE'),\n",
    "    bigquery.SchemaField('peso_kg', 'FLOAT', mode='NULLABLE'),\n",
    "    bigquery.SchemaField('pte_talla', 'FLOAT', mode='NULLABLE'),\n",
    "    bigquery.SchemaField('pte_medida_talla', 'STRING', mode='NULLABLE'),\n",
    "    bigquery.SchemaField('talla_cm', 'FLOAT', mode='NULLABLE'),\n",
    "    bigquery.SchemaField('pte_imc', 'FLOAT', mode='NULLABLE'),\n",
    "    bigquery.SchemaField('pte_cuello', 'FLOAT', mode='NULLABLE'),\n",
    "    bigquery.SchemaField('pte_medida_cuello', 'STRING', mode='NULLABLE'),\n",
    "    bigquery.SchemaField('cuello_cm', 'FLOAT', mode='NULLABLE'),\n",
    "    bigquery.SchemaField('pte_perimetro_abdominal', 'FLOAT', mode='NULLABLE'),\n",
    "    bigquery.SchemaField('pte_medida_perimetro_abdominal', 'STRING', mode='NULLABLE'),\n",
    "    bigquery.SchemaField('perimetro_abdominal_cm', 'FLOAT', mode='NULLABLE'),\n",
    "    bigquery.SchemaField('proced_solicita', 'STRING', mode='NULLABLE'),\n",
    "    bigquery.SchemaField('proced_empresa', 'STRING', mode='NULLABLE'),\n",
    "    bigquery.SchemaField('proced_fecha', 'DATETIME', mode='NULLABLE'),\n",
    "    bigquery.SchemaField('proced_epworth', 'INTEGER', mode='NULLABLE'),\n",
    "    bigquery.SchemaField('proced_tiempo_en_cama', 'FLOAT', mode='NULLABLE'),\n",
    "    bigquery.SchemaField('proced_tiempo_sueno', 'FLOAT', mode='NULLABLE'),\n",
    "    bigquery.SchemaField('proced_eficiencia_sueno', 'FLOAT', mode='NULLABLE'),\n",
    "    bigquery.SchemaField('proced_latencia_sueno_total', 'FLOAT', mode='NULLABLE'),\n",
    "    bigquery.SchemaField('proced_latencia_sueno_rem', 'FLOAT', mode='NULLABLE'),\n",
    "    bigquery.SchemaField('proced_indice_microalertamientos', 'FLOAT', mode='NULLABLE'),\n",
    "    bigquery.SchemaField('proced_porcentaje_sueno_rem', 'FLOAT', mode='NULLABLE'),\n",
    "    bigquery.SchemaField('proced_porcentaje_sueno_profundo', 'FLOAT', mode='NULLABLE'),\n",
    "    bigquery.SchemaField('proced_iac', 'FLOAT', mode='NULLABLE'),\n",
    "    bigquery.SchemaField('proced_iao', 'FLOAT', mode='NULLABLE'),\n",
    "    bigquery.SchemaField('proced_iam', 'FLOAT', mode='NULLABLE'),\n",
    "    bigquery.SchemaField('proced_indice_desat_rem', 'FLOAT', mode='NULLABLE'),\n",
    "    bigquery.SchemaField('proced_indice_desat_nrem', 'FLOAT', mode='NULLABLE'),\n",
    "    bigquery.SchemaField('proced_indice_desat_total', 'FLOAT', mode='NULLABLE'),\n",
    "    bigquery.SchemaField('proced_oxim_menor90_total', 'FLOAT', mode='NULLABLE'),\n",
    "    bigquery.SchemaField('proced_oxim_menor80_total', 'FLOAT', mode='NULLABLE'),\n",
    "    bigquery.SchemaField('proced_oxim_menor70_total', 'FLOAT', mode='NULLABLE'),\n",
    "    bigquery.SchemaField('proced_oxim_menor60_total', 'FLOAT', mode='NULLABLE'),\n",
    "    bigquery.SchemaField('proced_t90', 'FLOAT', mode='NULLABLE'),\n",
    "    bigquery.SchemaField('proced_numero_eventos_ah', 'INTEGER', mode='NULLABLE'),\n",
    "    bigquery.SchemaField('proced_ih', 'FLOAT', mode='NULLABLE'),\n",
    "    bigquery.SchemaField('proced_iah', 'FLOAT', mode='NULLABLE'),\n",
    "    bigquery.SchemaField('fuente', 'STRING', mode='NULLABLE')\n",
    "]\n"
   ]
  },
  {
   "cell_type": "code",
   "execution_count": 181,
   "id": "7cfc072b",
   "metadata": {},
   "outputs": [],
   "source": [
    "import os\n",
    "service_account_file = \"/home/clisueno/secrets/observatorio-ino-1-78cfc246d28f-key.json\"\n",
    "os.environ[\"GOOGLE_APPLICATION_CREDENTIALS\"] = service_account_file"
   ]
  },
  {
   "cell_type": "code",
   "execution_count": 182,
   "id": "517cd8a8",
   "metadata": {},
   "outputs": [],
   "source": [
    "client = bigquery.Client()"
   ]
  },
  {
   "cell_type": "code",
   "execution_count": 183,
   "id": "bb5e7b27",
   "metadata": {},
   "outputs": [],
   "source": [
    "tablej = 'observatorio-ino-1.clinica_sueno.tbl_basal'"
   ]
  },
  {
   "cell_type": "code",
   "execution_count": 91,
   "id": "c067b773",
   "metadata": {},
   "outputs": [
    {
     "name": "stdout",
     "output_type": "stream",
     "text": [
      "Tabla creada: observatorio-ino-1.clinica_sueno.tbl_basal\n"
     ]
    }
   ],
   "source": [
    "# OJO!  Ejecutar solamente para crear la tabla cuando no existe\n",
    "\n",
    "tables = bigquery.Table(tablej, schema=schemaj)\n",
    "tables.time_partitioning = bigquery.TimePartitioning(\n",
    "    type_=bigquery.TimePartitioningType.MONTH,\n",
    "    field='proced_fecha',  # Nombre de la columna de fecha para la partición\n",
    "    )\n",
    "tables = client.create_table(tables)\n",
    "print(\"Tabla creada: {}\".format(tablej))"
   ]
  },
  {
   "cell_type": "code",
   "execution_count": 184,
   "id": "ffe9f50a",
   "metadata": {},
   "outputs": [
    {
     "data": {
      "text/plain": [
       "(19791, 47)"
      ]
     },
     "execution_count": 184,
     "metadata": {},
     "output_type": "execute_result"
    }
   ],
   "source": [
    "df.shape"
   ]
  },
  {
   "cell_type": "code",
   "execution_count": 185,
   "id": "e0ef246f",
   "metadata": {},
   "outputs": [
    {
     "name": "stderr",
     "output_type": "stream",
     "text": [
      "/home/clisueno/venv/lib/python3.12/site-packages/google/cloud/bigquery/_pandas_helpers.py:489: FutureWarning: Loading pandas DataFrame into BigQuery will require pandas-gbq package version 0.26.1 or greater in the future. Tried to import pandas-gbq and got: No module named 'pandas_gbq'\n",
      "  warnings.warn(\n"
     ]
    },
    {
     "data": {
      "text/plain": [
       "LoadJob<project=observatorio-ino-1, location=us-central1, id=a63513e2-3dbb-4d9f-a79f-1b7bd4bbb471>"
      ]
     },
     "execution_count": 185,
     "metadata": {},
     "output_type": "execute_result"
    }
   ],
   "source": [
    "\n",
    "import pyarrow\n",
    "job_config = bigquery.LoadJobConfig(\n",
    "    schema=schemaj,\n",
    "    write_disposition='WRITE_TRUNCATE'\n",
    ")\n",
    "job = client.load_table_from_dataframe(\n",
    "    df, tablej, job_config=job_config\n",
    "    )\n",
    "job.result()"
   ]
  },
  {
   "cell_type": "code",
   "execution_count": 46,
   "id": "b9588019",
   "metadata": {},
   "outputs": [
    {
     "data": {
      "text/plain": [
       "(19791, 42)"
      ]
     },
     "execution_count": 46,
     "metadata": {},
     "output_type": "execute_result"
    }
   ],
   "source": [
    "df.shape"
   ]
  },
  {
   "cell_type": "code",
   "execution_count": 100,
   "id": "546be5cf",
   "metadata": {},
   "outputs": [
    {
     "data": {
      "text/plain": [
       "dtype('<M8[ns]')"
      ]
     },
     "execution_count": 100,
     "metadata": {},
     "output_type": "execute_result"
    }
   ],
   "source": [
    "df['proced_fecha'].dtype"
   ]
  },
  {
   "cell_type": "code",
   "execution_count": 99,
   "id": "beb65b26",
   "metadata": {},
   "outputs": [
    {
     "data": {
      "text/plain": [
       "3934    2024-05-09\n",
       "13547   2024-01-27\n",
       "12559   2024-12-06\n",
       "12790   2024-12-09\n",
       "2296    2024-04-04\n",
       "12699   2024-12-22\n",
       "12621   2024-12-13\n",
       "8489    2023-06-17\n",
       "17473   2024-09-29\n",
       "17312   2024-09-01\n",
       "2291    2024-04-18\n",
       "14228   2024-06-07\n",
       "19263   2025-02-25\n",
       "5939    2023-04-18\n",
       "5111    2025-01-13\n",
       "1667    2023-11-13\n",
       "510     2023-12-14\n",
       "4391    2024-10-25\n",
       "15388   2024-05-21\n",
       "6430    2023-08-13\n",
       "Name: proced_fecha, dtype: datetime64[ns]"
      ]
     },
     "execution_count": 99,
     "metadata": {},
     "output_type": "execute_result"
    }
   ],
   "source": [
    "df['proced_fecha'].sample(20)"
   ]
  },
  {
   "cell_type": "code",
   "execution_count": null,
   "id": "d52962e1",
   "metadata": {},
   "outputs": [],
   "source": []
  }
 ],
 "metadata": {
  "kernelspec": {
   "display_name": "venv",
   "language": "python",
   "name": "python3"
  },
  "language_info": {
   "codemirror_mode": {
    "name": "ipython",
    "version": 3
   },
   "file_extension": ".py",
   "mimetype": "text/x-python",
   "name": "python",
   "nbconvert_exporter": "python",
   "pygments_lexer": "ipython3",
   "version": "3.12.3"
  }
 },
 "nbformat": 4,
 "nbformat_minor": 5
}
